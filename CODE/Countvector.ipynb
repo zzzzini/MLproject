{
 "cells": [
  {
   "cell_type": "code",
   "execution_count": 1,
   "id": "da984410-af5a-4bdd-8da2-41d8dac4b45f",
   "metadata": {},
   "outputs": [
    {
     "name": "stdout",
     "output_type": "stream",
     "text": [
      "Collecting konlpy\n",
      "  Downloading konlpy-0.6.0-py2.py3-none-any.whl (19.4 MB)\n",
      "\u001b[2K     \u001b[90m━━━━━━━━━━━━━━━━━━━━━━━━━━━━━━━━━━━━━━━━\u001b[0m \u001b[32m19.4/19.4 MB\u001b[0m \u001b[31m3.2 MB/s\u001b[0m eta \u001b[36m0:00:00\u001b[0m00:01\u001b[0m00:01\u001b[0m\n",
      "\u001b[?25hCollecting JPype1>=0.7.0 (from konlpy)\n",
      "  Downloading JPype1-1.5.0-cp312-cp312-macosx_10_9_universal2.whl.metadata (4.9 kB)\n",
      "Collecting lxml>=4.1.0 (from konlpy)\n",
      "  Downloading lxml-5.1.0-cp312-cp312-macosx_11_0_arm64.whl.metadata (3.5 kB)\n",
      "Requirement already satisfied: numpy>=1.6 in /opt/homebrew/lib/python3.12/site-packages (from konlpy) (1.26.3)\n",
      "Requirement already satisfied: packaging in /opt/homebrew/opt/python-packaging/lib/python3.12/site-packages (from JPype1>=0.7.0->konlpy) (23.2)\n",
      "Downloading JPype1-1.5.0-cp312-cp312-macosx_10_9_universal2.whl (587 kB)\n",
      "\u001b[2K   \u001b[90m━━━━━━━━━━━━━━━━━━━━━━━━━━━━━━━━━━━━━━━━\u001b[0m \u001b[32m587.9/587.9 kB\u001b[0m \u001b[31m12.1 MB/s\u001b[0m eta \u001b[36m0:00:00\u001b[0ma \u001b[36m0:00:01\u001b[0m\n",
      "\u001b[?25hDownloading lxml-5.1.0-cp312-cp312-macosx_11_0_arm64.whl (4.5 MB)\n",
      "\u001b[2K   \u001b[90m━━━━━━━━━━━━━━━━━━━━━━━━━━━━━━━━━━━━━━━━\u001b[0m \u001b[32m4.5/4.5 MB\u001b[0m \u001b[31m4.1 MB/s\u001b[0m eta \u001b[36m0:00:00\u001b[0m00:01\u001b[0m00:01\u001b[0mm\n",
      "\u001b[?25hInstalling collected packages: lxml, JPype1, konlpy\n",
      "Successfully installed JPype1-1.5.0 konlpy-0.6.0 lxml-5.1.0\n",
      "\n",
      "\u001b[1m[\u001b[0m\u001b[34;49mnotice\u001b[0m\u001b[1;39;49m]\u001b[0m\u001b[39;49m A new release of pip is available: \u001b[0m\u001b[31;49m23.3.1\u001b[0m\u001b[39;49m -> \u001b[0m\u001b[32;49m23.3.2\u001b[0m\n",
      "\u001b[1m[\u001b[0m\u001b[34;49mnotice\u001b[0m\u001b[1;39;49m]\u001b[0m\u001b[39;49m To update, run: \u001b[0m\u001b[32;49m/opt/homebrew/Cellar/jupyterlab/4.0.11/libexec/bin/python -m pip install --upgrade pip\u001b[0m\n",
      "Note: you may need to restart the kernel to use updated packages.\n"
     ]
    }
   ],
   "source": [
    "pip install konlpy"
   ]
  },
  {
   "cell_type": "code",
   "execution_count": 11,
   "id": "3612a08c-da8c-43b3-bea8-8fe5ec0edceb",
   "metadata": {},
   "outputs": [
    {
     "data": {
      "text/plain": [
       "array(['결국', '결정', '공개처형', '국왕이', '나섰다', '날려먹은', '날짜', '눈물폭팔한', '런던에서',\n",
       "       '맛있다', '먹어본', '미친', '빠진', '사형', '살면서', '속보', '손흥민', '손흥민의', '시켰다던',\n",
       "       '영국', '영국왕이', '왕이', '이유', '인생치킨', '제일', '지시했다', '직접', '추천', '치킨중에',\n",
       "       '콘테', '패스', '페리시치', '페리시치를', '페리시치와', '페리카나', '한국에'], dtype=object)"
      ]
     },
     "execution_count": 11,
     "metadata": {},
     "output_type": "execute_result"
    }
   ],
   "source": [
    "from sklearn.feature_extraction.text import CountVectorizer\n",
    "\n",
    "vectorizer = CountVectorizer(min_df = 1)\n",
    "\n",
    "contents = ['인생치킨 추천 : 페리카나, 살면서 먹어본 치킨중에 제일 맛있다!',\n",
    "            '(속보) 페리시치 콘테 사형 런던에서 공개처형 \"영국왕이 직접 나섰다!\" 결국 눈물폭팔한 페리시치와 콘테',\n",
    "            '손흥민의 미친 패스 날려먹은 페리시치 사형 날짜 결국 결정 영국 국왕이 직접 지시했다',\n",
    "            '손흥민 패스 날려먹은 페리시치를 사형 시켰다던 영국 왕이 한국에 푹 빠진 이유']\n",
    "\n",
    "X = vectorizer.fit_transform(contents)\n",
    "vectorizer.get_feature_names_out()"
   ]
  },
  {
   "cell_type": "code",
   "execution_count": 12,
   "id": "a231006d-bd40-4bce-b04b-de9c8bae4724",
   "metadata": {},
   "outputs": [
    {
     "data": {
      "text/plain": [
       "array([[0, 1, 1, 0],\n",
       "       [0, 0, 1, 0],\n",
       "       [0, 1, 0, 0],\n",
       "       [0, 0, 1, 0],\n",
       "       [0, 1, 0, 0],\n",
       "       [0, 0, 1, 1],\n",
       "       [0, 0, 1, 0],\n",
       "       [0, 1, 0, 0],\n",
       "       [0, 1, 0, 0],\n",
       "       [1, 0, 0, 0],\n",
       "       [1, 0, 0, 0],\n",
       "       [0, 0, 1, 0],\n",
       "       [0, 0, 0, 1],\n",
       "       [0, 1, 1, 1],\n",
       "       [1, 0, 0, 0],\n",
       "       [0, 1, 0, 0],\n",
       "       [0, 0, 0, 1],\n",
       "       [0, 0, 1, 0],\n",
       "       [0, 0, 0, 1],\n",
       "       [0, 0, 1, 1],\n",
       "       [0, 1, 0, 0],\n",
       "       [0, 0, 0, 1],\n",
       "       [0, 0, 0, 1],\n",
       "       [1, 0, 0, 0],\n",
       "       [1, 0, 0, 0],\n",
       "       [0, 0, 1, 0],\n",
       "       [0, 1, 1, 0],\n",
       "       [1, 0, 0, 0],\n",
       "       [1, 0, 0, 0],\n",
       "       [0, 2, 0, 0],\n",
       "       [0, 0, 1, 1],\n",
       "       [0, 1, 1, 0],\n",
       "       [0, 0, 0, 1],\n",
       "       [0, 1, 0, 0],\n",
       "       [1, 0, 0, 0],\n",
       "       [0, 0, 0, 1]])"
      ]
     },
     "execution_count": 12,
     "metadata": {},
     "output_type": "execute_result"
    }
   ],
   "source": [
    "X.toarray().transpose()"
   ]
  },
  {
   "cell_type": "code",
   "execution_count": 13,
   "id": "1a94a2e9-0195-4be0-a120-3cf26ae7caae",
   "metadata": {},
   "outputs": [
    {
     "data": {
      "text/plain": [
       "array([[0, 0, 0, 0, 0, 0, 0, 0, 0, 0, 0, 0, 0, 0, 0, 0, 0, 0, 0, 0, 0, 0,\n",
       "        0, 0, 0, 0, 0, 0, 0, 0, 0, 1, 0, 0, 0, 0]])"
      ]
     },
     "execution_count": 13,
     "metadata": {},
     "output_type": "execute_result"
    }
   ],
   "source": [
    "new_post = ['\"세리에A 탑급 윙백\" 페리시치, \"FA\"로 토트넘 이적. 2년 계약']\n",
    "new_post_vec = vectorizer.transform(new_post)\n",
    "new_post_vec.toarray()"
   ]
  },
  {
   "cell_type": "code",
   "execution_count": 14,
   "id": "d3beb8a5-a479-430e-ba87-9678a58e6aa1",
   "metadata": {},
   "outputs": [
    {
     "name": "stdout",
     "output_type": "stream",
     "text": [
      "== Post 0 with dist = 3.00 : 인생치킨 추천 : 페리카나, 살면서 먹어본 치킨중에 제일 맛있다!\n",
      "== Post 1 with dist = 3.74 : (속보) 페리시치 콘테 사형 런던에서 공개처형 \"영국왕이 직접 나섰다!\" 결국 눈물폭팔한 페리시치와 콘테\n",
      "== Post 2 with dist = 3.46 : 손흥민의 미친 패스 날려먹은 페리시치 사형 날짜 결국 결정 영국 국왕이 직접 지시했다\n",
      "== Post 3 with dist = 3.46 : 손흥민 패스 날려먹은 페리시치를 사형 시켰다던 영국 왕이 한국에 푹 빠진 이유\n",
      "== Best 0 with dist = 3.00 : 인생치킨 추천 : 페리카나, 살면서 먹어본 치킨중에 제일 맛있다!\n"
     ]
    }
   ],
   "source": [
    "import scipy as sp\n",
    "\n",
    "def dist_raw(v1, v2):\n",
    "    delta = v1 - v2\n",
    "    return sp.linalg.norm(delta.toarray())\n",
    "\n",
    "best_dist = 70000\n",
    "best_i = None\n",
    "\n",
    "for i in range(0, len(contents)):\n",
    "    post_vec = X.getrow(i)\n",
    "\n",
    "    d = dist_raw(post_vec, new_post_vec)\n",
    "\n",
    "    print(\"== Post %i with dist = %.2f : %s\" %(i, d, contents[i]))\n",
    "\n",
    "    if d < best_dist:\n",
    "        best_dist = d\n",
    "        best_i = i\n",
    "\n",
    "print(\"== Best %i with dist = %.2f : %s\" %(best_i, best_dist, contents[best_i]))"
   ]
  }
 ],
 "metadata": {
  "kernelspec": {
   "display_name": "Python 3 (ipykernel)",
   "language": "python",
   "name": "python3"
  },
  "language_info": {
   "codemirror_mode": {
    "name": "ipython",
    "version": 3
   },
   "file_extension": ".py",
   "mimetype": "text/x-python",
   "name": "python",
   "nbconvert_exporter": "python",
   "pygments_lexer": "ipython3",
   "version": "3.12.1"
  }
 },
 "nbformat": 4,
 "nbformat_minor": 5
}
